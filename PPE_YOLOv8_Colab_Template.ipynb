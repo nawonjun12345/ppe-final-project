{
  "cells": [
    {
      "cell_type": "markdown",
      "id": "ea86137d",
      "metadata": {
        "id": "ea86137d"
      },
      "source": [
        "# 🦺 PPE Detection using YOLOv8\n",
        "Roboflow에서 제공하는 PPE 데이터셋을 기반으로 YOLOv8 모델을 학습하고, 개인 보호구 착용 여부를 감지합니다."
      ]
    },
    {
      "cell_type": "code",
      "execution_count": null,
      "id": "ac2c16bc",
      "metadata": {
        "id": "ac2c16bc"
      },
      "outputs": [],
      "source": [
        "!pip install ultralytics"
      ]
    },
    {
      "cell_type": "code",
      "execution_count": null,
      "id": "0c7003c3",
      "metadata": {
        "collapsed": true,
        "id": "0c7003c3"
      },
      "outputs": [],
      "source": [
        "from google.colab import files\n",
        "uploaded = files.upload()  # 여기서 PPE.v2i.yolov8.zip 파일 업로드"
      ]
    },
    {
      "cell_type": "code",
      "execution_count": null,
      "id": "c62e7340",
      "metadata": {
        "id": "c62e7340"
      },
      "outputs": [],
      "source": [
        "import zipfile\n",
        "with zipfile.ZipFile(\"PPE.v2i.yolov8.zip\", 'r') as zip_ref:\n",
        "    zip_ref.extractall(\"/content/PPE.v2i.yolov8\")"
      ]
    },
    {
      "cell_type": "code",
      "execution_count": null,
      "id": "8cfaacba",
      "metadata": {
        "collapsed": true,
        "id": "8cfaacba"
      },
      "outputs": [],
      "source": [
        "from ultralytics import YOLO\n",
        "model = YOLO('yolov8n.pt')\n",
        "model.train(\n",
        "    data=\"/content/PPE.v2i.yolov8/data.yaml\",\n",
        "    epochs=30,\n",
        "    imgsz=640,\n",
        "    batch=16\n",
        ")"
      ]
    },
    {
      "cell_type": "code",
      "source": [
        "from google.colab import files\n",
        "from ultralytics import YOLO\n",
        "from PIL import Image\n",
        "import matplotlib.pyplot as plt\n",
        "import os\n",
        "\n",
        "# 1. 이미지 업로드\n",
        "uploaded = files.upload()\n",
        "image_path = list(uploaded.keys())[0]\n",
        "print(f\"\\n📸 선택된 이미지: {image_path}\")\n",
        "\n",
        "# 2. 모델 로드\n",
        "model = YOLO(\"/content/runs/detect/train/weights/best.pt\")\n",
        "\n",
        "# 3. 예측 실행 (📂 디렉토리 지정해서 저장 확정적으로 하게끔)\n",
        "results = model.predict(\n",
        "    source=f\"/content/{image_path}\",\n",
        "    conf=0.3,\n",
        "    save=True,\n",
        "    save_txt=False,\n",
        "    name=\"predict_final\",  # 이 폴더로 고정\n",
        "    exist_ok=True  # 덮어쓰기 허용\n",
        ")\n",
        "\n",
        "# 4. 결과 분석 (미착용 여부 판단)\n",
        "for result in results:\n",
        "    names = result.names\n",
        "    boxes = result.boxes\n",
        "    labels = [names[int(cls)] for cls in boxes.cls]\n",
        "\n",
        "    print(f\"\\n🎯 감지된 객체: {labels}\")\n",
        "\n",
        "    if \"Person\" in labels:\n",
        "        missing_items = []\n",
        "        if \"Helmet\" not in labels:\n",
        "            missing_items.append(\"헬멧\")\n",
        "        if \"Vest\" not in labels:\n",
        "            missing_items.append(\"조끼\")\n",
        "        if \"Boots\" not in labels:\n",
        "            missing_items.append(\"안전화\")\n",
        "\n",
        "        if missing_items:\n",
        "            print(f\"🚨 미착용 감지됨! 미착용 항목: {', '.join(missing_items)}\")\n",
        "        else:\n",
        "            print(\"✅ 모든 보호구 착용 완료!\")\n",
        "    else:\n",
        "        print(\"⚠️ 사람이 감지되지 않았습니다.\")\n",
        "\n",
        "# 5. 예측 이미지 시각화\n",
        "base_name = os.path.splitext(image_path)[0]\n",
        "predicted_path = f\"/content/runs/detect/predict_final/{base_name}.jpg\"\n",
        "\n",
        "# 🔍 저장된 이미지 목록도 출력 (문제 디버깅용)\n",
        "print(\"\\n📁 저장된 파일 목록:\")\n",
        "print(os.listdir(\"/content/runs/detect/predict_final\"))\n",
        "\n",
        "# 시각화\n",
        "if os.path.exists(predicted_path):\n",
        "    img = Image.open(predicted_path)\n",
        "    plt.imshow(img)\n",
        "    plt.axis('off')\n",
        "    plt.title(\"📷 PPE 예측 결과\")\n",
        "    plt.show()\n",
        "else:\n",
        "    print(\"❗ 예측 이미지가 저장되지 않았습니다.\")\n"
      ],
      "metadata": {
        "collapsed": true,
        "id": "iGkG7tVKQkyf"
      },
      "id": "iGkG7tVKQkyf",
      "execution_count": null,
      "outputs": []
    },
    {
      "cell_type": "code",
      "execution_count": null,
      "id": "f2483db6",
      "metadata": {
        "collapsed": true,
        "id": "f2483db6"
      },
      "outputs": [],
      "source": [
        "from google.colab import files\n",
        "files.download('/content/runs/detect/train/weights/best.pt')\n",
        "files.download('/content/runs/detect/train/results.png')"
      ]
    }
  ],
  "metadata": {
    "colab": {
      "provenance": [],
      "gpuType": "T4"
    },
    "accelerator": "GPU",
    "language_info": {
      "name": "python"
    },
    "kernelspec": {
      "name": "python3",
      "display_name": "Python 3"
    }
  },
  "nbformat": 4,
  "nbformat_minor": 5
}